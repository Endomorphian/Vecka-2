{
 "cells": [
  {
   "cell_type": "markdown",
   "metadata": {},
   "source": [
    "# Importera Hemnet data"
   ]
  },
  {
   "cell_type": "code",
   "execution_count": 100,
   "metadata": {},
   "outputs": [],
   "source": [
    "import re\n",
    "\n",
    "with open('hemnet.txt') as f:\n",
    "    lines = f.readlines()\n",
    "\n",
    "size = []\n",
    "cost = []\n",
    "room_size = []\n",
    "house_cost = []\n",
    "\n",
    "for i in range(0, len(lines)):\n",
    "    if '<div class=\"sold-property-listing__subheading sold-property-listing__area\">' in lines[i]:\n",
    "        if (i+1) < len(lines):\n",
    "            tmp = re.search(r'\\d+', lines[i+1])\n",
    "            if (tmp is None):\n",
    "                None\n",
    "            else:\n",
    "                slask = tmp.group()\n",
    "            size.append(slask)\n",
    "            \n",
    "    if 'Slutpris' in lines[i] and len(lines[i]) < 50:\n",
    "        rmv = lines[i]\n",
    "        rmv = rmv.replace(\" \",\"\")\n",
    "        \n",
    "        tmp = re.search(r'\\d+', rmv)\n",
    "        if (tmp is None):\n",
    "            None\n",
    "        else:            \n",
    "            slask = tmp.group()\n",
    "        cost.append(slask)\n",
    "\n",
    "for i in range(0, len(size)): # Removes house without value\n",
    "    if int(size[i]) < 1000:\n",
    "        room_size.append(size[i])\n",
    "        house_cost.append(cost[i])\n",
    "\n",
    "# Convert and reshape for use in sklearn\n",
    "room_size = np.asarray(room_size).astype(np.float64)\n",
    "house_cost = np.asarray(house_cost).astype(np.float64)\n",
    "room_size = np.asarray(room_size).reshape(-1, 1)"
   ]
  },
  {
   "cell_type": "markdown",
   "metadata": {},
   "source": [
    "## Del 1: "
   ]
  },
  {
   "cell_type": "code",
   "execution_count": 101,
   "metadata": {
    "scrolled": true
   },
   "outputs": [
    {
     "name": "stdout",
     "output_type": "stream",
     "text": [
      "Slope: 27194.00765727267 \n",
      "Intercept: 2308249.945848796 \n",
      "\n",
      "100 m^2: 5.03 miljoner kr.\n",
      "150 m^2: 6.39 miljoner kr.\n",
      "200 m^2: 7.75 miljoner kr.\n"
     ]
    },
    {
     "data": {
      "image/png": "[encoded data removed]",
      "text/plain": [
       "<Figure size 432x288 with 1 Axes>"
      ]
     },
     "metadata": {
      "needs_background": "light"
     },
     "output_type": "display_data"
    },
    {
     "data": {
      "image/png": "[encoded data removed]",
      "text/plain": [
       "<Figure size 432x288 with 1 Axes>"
      ]
     },
     "metadata": {
      "needs_background": "light"
     },
     "output_type": "display_data"
    }
   ],
   "source": [
    "import matplotlib.pyplot as plt\n",
    "from sklearn import datasets, linear_model\n",
    "from sklearn import neighbors, metrics\n",
    "from sklearn.model_selection import train_test_split\n",
    "from sklearn.linear_model import LogisticRegression\n",
    "from sklearn.preprocessing import LabelEncoder\n",
    "from sklearn.metrics import confusion_matrix\n",
    "import numpy as np\n",
    "\n",
    "Xh_train, Xh_test, yh_train, yh_test = train_test_split(room_size, house_cost, test_size = 0.3, random_state = 12)\n",
    "\n",
    "lin_rg = linear_model.LinearRegression()\n",
    "lin_rg.fit(Xh_train, yh_train)\n",
    "\n",
    "yh_pred = lin_rg.predict(Xh_test)\n",
    "\n",
    "slope = lin_rg.coef_\n",
    "intercept = lin_rg.intercept_\n",
    "print(\"Slope:\", slope[0], \"\\nIntercept:\", intercept, \"\\n\")\n",
    "\n",
    "plt.scatter(Xh_test, yh_test, color=\"green\")\n",
    "plt.title(\"Prediction\")\n",
    "plt.plot(Xh_test, yh_pred, color=\"red\")\n",
    "\n",
    "print(\"100 m^2:\", round(lin_rg.predict(np.array([100]).reshape(1, -1))[0] / 1000000, 2), \"miljoner kr.\") \n",
    "print(\"150 m^2:\", round(lin_rg.predict(np.array([150]).reshape(1, -1))[0] / 1000000, 2), \"miljoner kr.\")\n",
    "print(\"200 m^2:\", round(lin_rg.predict(np.array([200]).reshape(1, -1))[0] / 1000000, 2), \"miljoner kr.\")\n",
    "\n",
    "plt.show()\n",
    "\n",
    "plt.scatter(yh_test-yh_pred,yh_pred)\n",
    "plt.title(\"Residual Plot\")\n",
    "plt.show()"
   ]
  },
  {
   "cell_type": "markdown",
   "metadata": {},
   "source": [
    "# Del 2"
   ]
  },
  {
   "cell_type": "code",
   "execution_count": 102,
   "metadata": {
    "scrolled": false
   },
   "outputs": [
    {
     "name": "stdout",
     "output_type": "stream",
     "text": [
      "KNN: \n",
      " [[20  0  0]\n",
      " [ 0 13  1]\n",
      " [ 0  0 11]]\n",
      "KNN:  0.9777777777777777 \n",
      "\n",
      "LRG: \n",
      " [[20  0  0]\n",
      " [ 0 13  1]\n",
      " [ 0  0 11]]\n",
      "LRG:  0.9777777777777777\n"
     ]
    }
   ],
   "source": [
    "iris = datasets.load_iris()\n",
    "\n",
    "# Split\n",
    "X = iris.data\n",
    "y = iris.target\n",
    "\n",
    "X_train, X_test, y_train, y_test = train_test_split(X, y, test_size = 0.3, random_state = 12)\n",
    "\n",
    "def Linear_Regression():\n",
    "    \n",
    "    lr = LogisticRegression(random_state = 0, solver = 'liblinear', multi_class='ovr')\n",
    "    lr.fit(X_train, y_train)\n",
    "    \n",
    "    predictions = lr.predict(X_test)\n",
    "    accuracy = metrics.accuracy_score(y_test, predictions)\n",
    "    \n",
    "    print(\"LRG: \\n\", confusion_matrix(y_test, predictions))\n",
    "    \n",
    "    return accuracy\n",
    "\n",
    "def Knn(k, dst):\n",
    "    \n",
    "    knn = neighbors.KNeighborsClassifier(n_neighbors = k, weights=dst)\n",
    "    knn.fit(X_train, y_train)\n",
    "\n",
    "    predictions = knn.predict(X_test)\n",
    "    accuracy = metrics.accuracy_score(y_test, predictions)\n",
    "    \n",
    "    print(\"KNN: \\n\", confusion_matrix(y_test, predictions))\n",
    "    \n",
    "    return accuracy # predictions, accuracy\n",
    "\n",
    "for i in range(1, 1):\n",
    "    # print(\"Distance: \", other_parameters(i,'distance'))\n",
    "    # print(\"Uniform:  \", other_parameters(i,'uniform'))\n",
    "    print(\"test\")\n",
    "\n",
    "print(\"KNN: \", Knn(3, 'uniform'), \"\\n\")\n",
    "print(\"LRG: \", Linear_Regression())\n",
    "\n",
    "    "
   ]
  },
  {
   "cell_type": "code",
   "execution_count": null,
   "metadata": {},
   "outputs": [],
   "source": []
  },
  {
   "cell_type": "code",
   "execution_count": null,
   "metadata": {},
   "outputs": [],
   "source": []
  }
 ],
 "metadata": {
  "kernelspec": {
   "display_name": "Python 3",
   "language": "python",
   "name": "python3"
  },
  "language_info": {
   "codemirror_mode": {
    "name": "ipython",
    "version": 3
   },
   "file_extension": ".py",
   "mimetype": "text/x-python",
   "name": "python",
   "nbconvert_exporter": "python",
   "pygments_lexer": "ipython3",
   "version": "3.7.3"
  }
 },
 "nbformat": 4,
 "nbformat_minor": 2
}
